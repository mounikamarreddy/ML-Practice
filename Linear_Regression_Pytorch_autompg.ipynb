{
  "nbformat": 4,
  "nbformat_minor": 0,
  "metadata": {
    "colab": {
      "name": "Linear-Regression Pytorch-autompg.ipynb",
      "provenance": [],
      "collapsed_sections": []
    },
    "kernelspec": {
      "name": "python3",
      "display_name": "Python 3"
    },
    "language_info": {
      "name": "python"
    }
  },
  "cells": [
    {
      "cell_type": "code",
      "execution_count": 48,
      "metadata": {
        "id": "Opfn9b7ex1x7"
      },
      "outputs": [],
      "source": [
        "import torch\n",
        "from torch.autograd import Variable\n",
        "import torch.nn"
      ]
    },
    {
      "cell_type": "code",
      "source": [
        "#import the data\n",
        "from google.colab import files\n",
        "uploaded = files.upload()"
      ],
      "metadata": {
        "colab": {
          "resources": {
            "http://localhost:8080/nbextensions/google.colab/files.js": {
              "data": "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",
              "ok": true,
              "headers": [
                [
                  "content-type",
                  "application/javascript"
                ]
              ],
              "status": 200,
              "status_text": ""
            }
          },
          "base_uri": "https://localhost:8080/",
          "height": 74
        },
        "id": "AVqkqxTQ0RY9",
        "outputId": "3ec4720c-18c6-4523-b210-21f6409fce1e"
      },
      "execution_count": 49,
      "outputs": [
        {
          "output_type": "display_data",
          "data": {
            "text/plain": [
              "<IPython.core.display.HTML object>"
            ],
            "text/html": [
              "\n",
              "     <input type=\"file\" id=\"files-e5c45979-16f0-4cf5-9515-468584e38f73\" name=\"files[]\" multiple disabled\n",
              "        style=\"border:none\" />\n",
              "     <output id=\"result-e5c45979-16f0-4cf5-9515-468584e38f73\">\n",
              "      Upload widget is only available when the cell has been executed in the\n",
              "      current browser session. Please rerun this cell to enable.\n",
              "      </output>\n",
              "      <script src=\"/nbextensions/google.colab/files.js\"></script> "
            ]
          },
          "metadata": {}
        },
        {
          "output_type": "stream",
          "name": "stdout",
          "text": [
            "Saving auto-mpg.csv to auto-mpg (1).csv\n"
          ]
        }
      ]
    },
    {
      "cell_type": "code",
      "source": [
        "import pandas as pd\n",
        "import numpy as np"
      ],
      "metadata": {
        "id": "iB0nFQpY0g84"
      },
      "execution_count": 50,
      "outputs": []
    },
    {
      "cell_type": "code",
      "source": [
        "data = pd.read_csv(\"auto-mpg.csv\")"
      ],
      "metadata": {
        "id": "SeOm0yxi1VPg"
      },
      "execution_count": 75,
      "outputs": []
    },
    {
      "cell_type": "code",
      "source": [
        "data.info()"
      ],
      "metadata": {
        "colab": {
          "base_uri": "https://localhost:8080/"
        },
        "id": "BjCenUD41ahk",
        "outputId": "bde8befd-2f2b-4f79-8db1-328eba41ed62"
      },
      "execution_count": 76,
      "outputs": [
        {
          "output_type": "stream",
          "name": "stdout",
          "text": [
            "<class 'pandas.core.frame.DataFrame'>\n",
            "RangeIndex: 398 entries, 0 to 397\n",
            "Data columns (total 9 columns):\n",
            " #   Column        Non-Null Count  Dtype  \n",
            "---  ------        --------------  -----  \n",
            " 0   mpg           398 non-null    float64\n",
            " 1   cylinders     398 non-null    int64  \n",
            " 2   displacement  398 non-null    float64\n",
            " 3   horsepower    398 non-null    object \n",
            " 4   weight        398 non-null    int64  \n",
            " 5   acceleration  398 non-null    float64\n",
            " 6   model year    398 non-null    int64  \n",
            " 7   origin        398 non-null    int64  \n",
            " 8   car name      398 non-null    object \n",
            "dtypes: float64(3), int64(4), object(2)\n",
            "memory usage: 28.1+ KB\n"
          ]
        }
      ]
    },
    {
      "cell_type": "code",
      "source": [
        "target = data['mpg']\n",
        "data.drop(['mpg'],inplace = True,axis =1) "
      ],
      "metadata": {
        "id": "Gmz73T-jibOA"
      },
      "execution_count": 77,
      "outputs": []
    },
    {
      "cell_type": "code",
      "source": [
        "#seperate numerical and categorical columns\n",
        "from sklearn.compose import make_column_selector \n",
        "numeric_cols = make_column_selector(dtype_exclude=object) #calling the function and excluding the object col's\n",
        "data_numeric = numeric_cols(data) # selecting the numeric columns\n",
        "numeric = data[data_numeric] # selecting the numeric data by using numeric col's\n"
      ],
      "metadata": {
        "id": "-eIXCFYKhmgf"
      },
      "execution_count": 78,
      "outputs": []
    },
    {
      "cell_type": "code",
      "source": [
        "#scaling to get the same range of values in the dataset\n",
        "from sklearn.preprocessing import StandardScaler\n",
        "scaling = StandardScaler() #calling the function\n",
        "scaling.fit(numeric) # fitting the data to apply scaling\n",
        "numeric_scaling = scaling.transform(numeric) # it will take every value and apply the formula of standard scaler\n"
      ],
      "metadata": {
        "id": "4cxmouGthr7-"
      },
      "execution_count": 79,
      "outputs": []
    },
    {
      "cell_type": "code",
      "source": [
        "numeric_scaling_df = pd.DataFrame(numeric_scaling,columns = data_numeric) #we are converting the numpy array to dataframe\n",
        "numeric_scaling_df.head()"
      ],
      "metadata": {
        "colab": {
          "base_uri": "https://localhost:8080/",
          "height": 206
        },
        "id": "DvhhESmzhvoi",
        "outputId": "c1caae8c-067c-43b0-a425-9d2ad8addfac"
      },
      "execution_count": 80,
      "outputs": [
        {
          "output_type": "execute_result",
          "data": {
            "text/plain": [
              "   cylinders  displacement    weight  acceleration  model year    origin\n",
              "0   1.498191      1.090604  0.630870     -1.295498   -1.627426 -0.715145\n",
              "1   1.498191      1.503514  0.854333     -1.477038   -1.627426 -0.715145\n",
              "2   1.498191      1.196232  0.550470     -1.658577   -1.627426 -0.715145\n",
              "3   1.498191      1.061796  0.546923     -1.295498   -1.627426 -0.715145\n",
              "4   1.498191      1.042591  0.565841     -1.840117   -1.627426 -0.715145"
            ],
            "text/html": [
              "\n",
              "  <div id=\"df-0b32d16e-1cd4-4df6-8cd6-90e12762539b\">\n",
              "    <div class=\"colab-df-container\">\n",
              "      <div>\n",
              "<style scoped>\n",
              "    .dataframe tbody tr th:only-of-type {\n",
              "        vertical-align: middle;\n",
              "    }\n",
              "\n",
              "    .dataframe tbody tr th {\n",
              "        vertical-align: top;\n",
              "    }\n",
              "\n",
              "    .dataframe thead th {\n",
              "        text-align: right;\n",
              "    }\n",
              "</style>\n",
              "<table border=\"1\" class=\"dataframe\">\n",
              "  <thead>\n",
              "    <tr style=\"text-align: right;\">\n",
              "      <th></th>\n",
              "      <th>cylinders</th>\n",
              "      <th>displacement</th>\n",
              "      <th>weight</th>\n",
              "      <th>acceleration</th>\n",
              "      <th>model year</th>\n",
              "      <th>origin</th>\n",
              "    </tr>\n",
              "  </thead>\n",
              "  <tbody>\n",
              "    <tr>\n",
              "      <th>0</th>\n",
              "      <td>1.498191</td>\n",
              "      <td>1.090604</td>\n",
              "      <td>0.630870</td>\n",
              "      <td>-1.295498</td>\n",
              "      <td>-1.627426</td>\n",
              "      <td>-0.715145</td>\n",
              "    </tr>\n",
              "    <tr>\n",
              "      <th>1</th>\n",
              "      <td>1.498191</td>\n",
              "      <td>1.503514</td>\n",
              "      <td>0.854333</td>\n",
              "      <td>-1.477038</td>\n",
              "      <td>-1.627426</td>\n",
              "      <td>-0.715145</td>\n",
              "    </tr>\n",
              "    <tr>\n",
              "      <th>2</th>\n",
              "      <td>1.498191</td>\n",
              "      <td>1.196232</td>\n",
              "      <td>0.550470</td>\n",
              "      <td>-1.658577</td>\n",
              "      <td>-1.627426</td>\n",
              "      <td>-0.715145</td>\n",
              "    </tr>\n",
              "    <tr>\n",
              "      <th>3</th>\n",
              "      <td>1.498191</td>\n",
              "      <td>1.061796</td>\n",
              "      <td>0.546923</td>\n",
              "      <td>-1.295498</td>\n",
              "      <td>-1.627426</td>\n",
              "      <td>-0.715145</td>\n",
              "    </tr>\n",
              "    <tr>\n",
              "      <th>4</th>\n",
              "      <td>1.498191</td>\n",
              "      <td>1.042591</td>\n",
              "      <td>0.565841</td>\n",
              "      <td>-1.840117</td>\n",
              "      <td>-1.627426</td>\n",
              "      <td>-0.715145</td>\n",
              "    </tr>\n",
              "  </tbody>\n",
              "</table>\n",
              "</div>\n",
              "      <button class=\"colab-df-convert\" onclick=\"convertToInteractive('df-0b32d16e-1cd4-4df6-8cd6-90e12762539b')\"\n",
              "              title=\"Convert this dataframe to an interactive table.\"\n",
              "              style=\"display:none;\">\n",
              "        \n",
              "  <svg xmlns=\"http://www.w3.org/2000/svg\" height=\"24px\"viewBox=\"0 0 24 24\"\n",
              "       width=\"24px\">\n",
              "    <path d=\"M0 0h24v24H0V0z\" fill=\"none\"/>\n",
              "    <path d=\"M18.56 5.44l.94 2.06.94-2.06 2.06-.94-2.06-.94-.94-2.06-.94 2.06-2.06.94zm-11 1L8.5 8.5l.94-2.06 2.06-.94-2.06-.94L8.5 2.5l-.94 2.06-2.06.94zm10 10l.94 2.06.94-2.06 2.06-.94-2.06-.94-.94-2.06-.94 2.06-2.06.94z\"/><path d=\"M17.41 7.96l-1.37-1.37c-.4-.4-.92-.59-1.43-.59-.52 0-1.04.2-1.43.59L10.3 9.45l-7.72 7.72c-.78.78-.78 2.05 0 2.83L4 21.41c.39.39.9.59 1.41.59.51 0 1.02-.2 1.41-.59l7.78-7.78 2.81-2.81c.8-.78.8-2.07 0-2.86zM5.41 20L4 18.59l7.72-7.72 1.47 1.35L5.41 20z\"/>\n",
              "  </svg>\n",
              "      </button>\n",
              "      \n",
              "  <style>\n",
              "    .colab-df-container {\n",
              "      display:flex;\n",
              "      flex-wrap:wrap;\n",
              "      gap: 12px;\n",
              "    }\n",
              "\n",
              "    .colab-df-convert {\n",
              "      background-color: #E8F0FE;\n",
              "      border: none;\n",
              "      border-radius: 50%;\n",
              "      cursor: pointer;\n",
              "      display: none;\n",
              "      fill: #1967D2;\n",
              "      height: 32px;\n",
              "      padding: 0 0 0 0;\n",
              "      width: 32px;\n",
              "    }\n",
              "\n",
              "    .colab-df-convert:hover {\n",
              "      background-color: #E2EBFA;\n",
              "      box-shadow: 0px 1px 2px rgba(60, 64, 67, 0.3), 0px 1px 3px 1px rgba(60, 64, 67, 0.15);\n",
              "      fill: #174EA6;\n",
              "    }\n",
              "\n",
              "    [theme=dark] .colab-df-convert {\n",
              "      background-color: #3B4455;\n",
              "      fill: #D2E3FC;\n",
              "    }\n",
              "\n",
              "    [theme=dark] .colab-df-convert:hover {\n",
              "      background-color: #434B5C;\n",
              "      box-shadow: 0px 1px 3px 1px rgba(0, 0, 0, 0.15);\n",
              "      filter: drop-shadow(0px 1px 2px rgba(0, 0, 0, 0.3));\n",
              "      fill: #FFFFFF;\n",
              "    }\n",
              "  </style>\n",
              "\n",
              "      <script>\n",
              "        const buttonEl =\n",
              "          document.querySelector('#df-0b32d16e-1cd4-4df6-8cd6-90e12762539b button.colab-df-convert');\n",
              "        buttonEl.style.display =\n",
              "          google.colab.kernel.accessAllowed ? 'block' : 'none';\n",
              "\n",
              "        async function convertToInteractive(key) {\n",
              "          const element = document.querySelector('#df-0b32d16e-1cd4-4df6-8cd6-90e12762539b');\n",
              "          const dataTable =\n",
              "            await google.colab.kernel.invokeFunction('convertToInteractive',\n",
              "                                                     [key], {});\n",
              "          if (!dataTable) return;\n",
              "\n",
              "          const docLinkHtml = 'Like what you see? Visit the ' +\n",
              "            '<a target=\"_blank\" href=https://colab.research.google.com/notebooks/data_table.ipynb>data table notebook</a>'\n",
              "            + ' to learn more about interactive tables.';\n",
              "          element.innerHTML = '';\n",
              "          dataTable['output_type'] = 'display_data';\n",
              "          await google.colab.output.renderOutput(dataTable, element);\n",
              "          const docLink = document.createElement('div');\n",
              "          docLink.innerHTML = docLinkHtml;\n",
              "          element.appendChild(docLink);\n",
              "        }\n",
              "      </script>\n",
              "    </div>\n",
              "  </div>\n",
              "  "
            ]
          },
          "metadata": {},
          "execution_count": 80
        }
      ]
    },
    {
      "cell_type": "code",
      "source": [
        "data.drop(['car name'],inplace = True, axis = 1)"
      ],
      "metadata": {
        "id": "dT7hr8e8hzCg"
      },
      "execution_count": 81,
      "outputs": []
    },
    {
      "cell_type": "code",
      "source": [
        "horsepower_nomissing = data[data['horsepower']!='?']['horsepower']\n",
        "horsepower_nomissing = horsepower_nomissing.astype(int)\n",
        "np.mean(horsepower_nomissing)\n",
        "data['horsepower'].replace('?',np.mean(horsepower_nomissing),inplace = True)"
      ],
      "metadata": {
        "id": "FDx1D-LYh0AM"
      },
      "execution_count": 82,
      "outputs": []
    },
    {
      "cell_type": "code",
      "source": [
        "data['horsepower'] = data['horsepower'].astype(int)"
      ],
      "metadata": {
        "id": "x-iO8sqah31p"
      },
      "execution_count": 83,
      "outputs": []
    },
    {
      "cell_type": "code",
      "source": [
        "#final data preparation\n",
        "final_data = pd.concat([numeric_scaling_df,data['horsepower']],axis = 1)\n",
        "x = final_data\n",
        "y = target"
      ],
      "metadata": {
        "id": "TtRX72rXh9qg"
      },
      "execution_count": 84,
      "outputs": []
    },
    {
      "cell_type": "code",
      "source": [
        "from sklearn.model_selection import train_test_split\n",
        "x_train,x_test,y_train,y_test = train_test_split(x, y, test_size = 0.2)\n",
        "print(x_train.shape)\n",
        "print(x_test.shape)\n",
        "print(y_train.shape)\n",
        "print(x_test.shape)\n"
      ],
      "metadata": {
        "colab": {
          "base_uri": "https://localhost:8080/"
        },
        "id": "OQkdk1z03Xm_",
        "outputId": "6d6d8556-8ef5-4ed5-f585-975c6b3769f2"
      },
      "execution_count": 85,
      "outputs": [
        {
          "output_type": "stream",
          "name": "stdout",
          "text": [
            "(318, 7)\n",
            "(80, 7)\n",
            "(318,)\n",
            "(80, 7)\n"
          ]
        }
      ]
    },
    {
      "cell_type": "code",
      "source": [
        "# converting to numpy arrays and then to tensors\n",
        "x_train1 = x_train.to_numpy()\n",
        "x_test1 = x_test.to_numpy()\n",
        "y_train1 = y_train.to_numpy()\n",
        "y_test1 = y_test.to_numpy()\n"
      ],
      "metadata": {
        "id": "3CmrdwdLLx5r"
      },
      "execution_count": 86,
      "outputs": []
    },
    {
      "cell_type": "code",
      "source": [
        "#numpy arrays to tensor\n",
        "x_train_tensor = torch.from_numpy(x_train1)\n",
        "x_test_tensor = torch.from_numpy(x_test1)\n",
        "y_train_tensor = torch.from_numpy(y_train1)\n",
        "y_test_tensor = torch.from_numpy(y_test1)\n"
      ],
      "metadata": {
        "id": "5KbLrHpUMJcL"
      },
      "execution_count": 87,
      "outputs": []
    },
    {
      "cell_type": "code",
      "source": [
        "print(x_train_tensor.shape)\n",
        "print(x_test_tensor.shape)\n",
        "print(y_train_tensor.shape)\n",
        "print(y_test_tensor.shape)"
      ],
      "metadata": {
        "colab": {
          "base_uri": "https://localhost:8080/"
        },
        "id": "QVq-t1ZbM69Q",
        "outputId": "33c222b3-aae2-4c2b-8d75-c98ab99cdfd4"
      },
      "execution_count": 88,
      "outputs": [
        {
          "output_type": "stream",
          "name": "stdout",
          "text": [
            "torch.Size([318, 7])\n",
            "torch.Size([80, 7])\n",
            "torch.Size([318])\n",
            "torch.Size([80])\n"
          ]
        }
      ]
    },
    {
      "cell_type": "code",
      "source": [
        "#pytorch Linear regression\n",
        "class LinearRegressionModel(torch.nn.Module):\n",
        "\n",
        "  def __init__(self):\n",
        "    super(LinearRegressionModel, self).__init__()\n",
        "    self.linear = torch.nn.Linear(7,1)\n",
        "\n",
        "  def forward(self,x):\n",
        "    y_pred = self.linear(x)\n",
        "    return y_pred\n",
        "\n",
        "our_model = LinearRegressionModel()\n",
        "\n",
        "criterion = torch.nn.MSELoss(size_average=False)\n",
        "optimizer = torch.optim.SGD(our_model.parameters(), lr = 0.01)\n",
        "\n",
        "for epoch in range(2):\n",
        "  pred_y = our_model(x_train_tensor.float())\n",
        "  #training loss\n",
        "  loss = criterion(pred_y, y_train_tensor.float())\n",
        "  print(\"training loss\\n\",loss)\n",
        "  \n",
        "\n",
        "  optimizer.zero_grad()\n",
        "  loss.backward()\n",
        "  optimizer.step()\n",
        "  \n",
        "\n",
        "  #print('epoch {}, loss {}'.format(epoch,loss.item()))\n",
        "\n",
        "#testing\n",
        "our_model.eval()\n",
        "pred_y_test = our_model(x_test_tensor.float())\n",
        "test_loss = criterion(pred_y_test,y_test_tensor.float())\n",
        "print(\"testing loss\\n\",test_loss)\n",
        "\n",
        "\n",
        "\n",
        "\n",
        "\n"
      ],
      "metadata": {
        "id": "KivD5tMX3yKc",
        "colab": {
          "base_uri": "https://localhost:8080/"
        },
        "outputId": "5d4717c2-b055-4961-b330-c70bd16e9ae3"
      },
      "execution_count": 94,
      "outputs": [
        {
          "output_type": "stream",
          "name": "stdout",
          "text": [
            "training loss\n",
            " tensor(46848096., grad_fn=<MseLossBackward0>)\n",
            "training loss\n",
            " tensor(2.1460e+22, grad_fn=<MseLossBackward0>)\n",
            "testing loss\n",
            " tensor(8.8128e+35, grad_fn=<MseLossBackward0>)\n"
          ]
        },
        {
          "output_type": "stream",
          "name": "stderr",
          "text": [
            "/usr/local/lib/python3.7/dist-packages/torch/nn/_reduction.py:42: UserWarning: size_average and reduce args will be deprecated, please use reduction='sum' instead.\n",
            "  warnings.warn(warning.format(ret))\n",
            "/usr/local/lib/python3.7/dist-packages/torch/nn/modules/loss.py:529: UserWarning: Using a target size (torch.Size([318])) that is different to the input size (torch.Size([318, 1])). This will likely lead to incorrect results due to broadcasting. Please ensure they have the same size.\n",
            "  return F.mse_loss(input, target, reduction=self.reduction)\n",
            "/usr/local/lib/python3.7/dist-packages/torch/nn/modules/loss.py:529: UserWarning: Using a target size (torch.Size([80])) that is different to the input size (torch.Size([80, 1])). This will likely lead to incorrect results due to broadcasting. Please ensure they have the same size.\n",
            "  return F.mse_loss(input, target, reduction=self.reduction)\n"
          ]
        }
      ]
    },
    {
      "cell_type": "code",
      "source": [
        "pred_y"
      ],
      "metadata": {
        "id": "9XbI3GM13zTS",
        "colab": {
          "base_uri": "https://localhost:8080/"
        },
        "outputId": "ff1f9b37-2ad4-44e5-87f4-0be63f711080"
      },
      "execution_count": 90,
      "outputs": [
        {
          "output_type": "execute_result",
          "data": {
            "text/plain": [
              "tensor([[1.3296e+08],\n",
              "        [3.1011e+08],\n",
              "        [1.8610e+08],\n",
              "        [2.4809e+08],\n",
              "        [1.8612e+08],\n",
              "        [1.3828e+08],\n",
              "        [1.3297e+08],\n",
              "        [1.1527e+08],\n",
              "        [1.6841e+08],\n",
              "        [2.6582e+08],\n",
              "        [1.1879e+08],\n",
              "        [1.9497e+08],\n",
              "        [3.3669e+08],\n",
              "        [1.2762e+08],\n",
              "        [1.4714e+08],\n",
              "        [1.2413e+08],\n",
              "        [2.6582e+08],\n",
              "        [9.3993e+07],\n",
              "        [1.5066e+08],\n",
              "        [1.7370e+08],\n",
              "        [1.8609e+08],\n",
              "        [1.3298e+08],\n",
              "        [2.7468e+08],\n",
              "        [1.5423e+08],\n",
              "        [1.1527e+08],\n",
              "        [2.4810e+08],\n",
              "        [1.7724e+08],\n",
              "        [1.1526e+08],\n",
              "        [1.4891e+08],\n",
              "        [2.4810e+08],\n",
              "        [8.1586e+07],\n",
              "        [1.3296e+08],\n",
              "        [1.9496e+08],\n",
              "        [2.8352e+08],\n",
              "        [1.2411e+08],\n",
              "        [1.5955e+08],\n",
              "        [1.4714e+08],\n",
              "        [1.6838e+08],\n",
              "        [1.2588e+08],\n",
              "        [3.1010e+08],\n",
              "        [3.9872e+08],\n",
              "        [1.4006e+08],\n",
              "        [1.6841e+08],\n",
              "        [2.0561e+08],\n",
              "        [1.2764e+08],\n",
              "        [1.2765e+08],\n",
              "        [1.8611e+08],\n",
              "        [2.6580e+08],\n",
              "        [1.7724e+08],\n",
              "        [1.1526e+08],\n",
              "        [1.2410e+08],\n",
              "        [3.5086e+08],\n",
              "        [1.9498e+08],\n",
              "        [1.9498e+08],\n",
              "        [2.6227e+08],\n",
              "        [1.5245e+08],\n",
              "        [1.8609e+08],\n",
              "        [1.4891e+08],\n",
              "        [2.9243e+08],\n",
              "        [1.3121e+08],\n",
              "        [1.5955e+08],\n",
              "        [1.7196e+08],\n",
              "        [3.1011e+08],\n",
              "        [3.3669e+08],\n",
              "        [1.4182e+08],\n",
              "        [1.6841e+08],\n",
              "        [9.2228e+07],\n",
              "        [1.9497e+08],\n",
              "        [8.5139e+07],\n",
              "        [1.5597e+08],\n",
              "        [1.8258e+08],\n",
              "        [1.6840e+08],\n",
              "        [1.5069e+08],\n",
              "        [1.1879e+08],\n",
              "        [1.7724e+08],\n",
              "        [1.7196e+08],\n",
              "        [1.1881e+08],\n",
              "        [2.6582e+08],\n",
              "        [2.6582e+08],\n",
              "        [1.1527e+08],\n",
              "        [1.3120e+08],\n",
              "        [3.8101e+08],\n",
              "        [1.8610e+08],\n",
              "        [1.9495e+08],\n",
              "        [1.6310e+08],\n",
              "        [1.7724e+08],\n",
              "        [1.5601e+08],\n",
              "        [2.5697e+08],\n",
              "        [2.3037e+08],\n",
              "        [3.0125e+08],\n",
              "        [1.8434e+08],\n",
              "        [1.1527e+08],\n",
              "        [1.5596e+08],\n",
              "        [1.3473e+08],\n",
              "        [1.5598e+08],\n",
              "        [1.3296e+08],\n",
              "        [1.7194e+08],\n",
              "        [1.3473e+08],\n",
              "        [1.2058e+08],\n",
              "        [1.6131e+08],\n",
              "        [9.2237e+07],\n",
              "        [3.9871e+08],\n",
              "        [1.2056e+08],\n",
              "        [1.4891e+08],\n",
              "        [1.4360e+08],\n",
              "        [1.2411e+08],\n",
              "        [1.9496e+08],\n",
              "        [1.1701e+08],\n",
              "        [1.8081e+08],\n",
              "        [1.6838e+08],\n",
              "        [1.5066e+08],\n",
              "        [2.7999e+08],\n",
              "        [1.5954e+08],\n",
              "        [2.6580e+08],\n",
              "        [1.5954e+08],\n",
              "        [1.6841e+08],\n",
              "        [1.9499e+08],\n",
              "        [1.6838e+08],\n",
              "        [1.1880e+08],\n",
              "        [1.7195e+08],\n",
              "        [1.5066e+08],\n",
              "        [1.5955e+08],\n",
              "        [1.5952e+08],\n",
              "        [2.5696e+08],\n",
              "        [1.2588e+08],\n",
              "        [1.4182e+08],\n",
              "        [1.2058e+08],\n",
              "        [1.1880e+08],\n",
              "        [2.4810e+08],\n",
              "        [1.5246e+08],\n",
              "        [1.5956e+08],\n",
              "        [1.3297e+08],\n",
              "        [1.8437e+08],\n",
              "        [1.5601e+08],\n",
              "        [1.8610e+08],\n",
              "        [2.3396e+08],\n",
              "        [1.3650e+08],\n",
              "        [1.8437e+08],\n",
              "        [1.6839e+08],\n",
              "        [1.5066e+08],\n",
              "        [3.8985e+08],\n",
              "        [1.5245e+08],\n",
              "        [1.1348e+08],\n",
              "        [8.6902e+07],\n",
              "        [1.4538e+08],\n",
              "        [2.5695e+08],\n",
              "        [2.2153e+08],\n",
              "        [1.5601e+08],\n",
              "        [1.3120e+08],\n",
              "        [2.3038e+08],\n",
              "        [1.2235e+08],\n",
              "        [2.5695e+08],\n",
              "        [2.4810e+08],\n",
              "        [1.7018e+08],\n",
              "        [1.1879e+08],\n",
              "        [1.2411e+08],\n",
              "        [1.3829e+08],\n",
              "        [2.6581e+08],\n",
              "        [1.4182e+08],\n",
              "        [1.4006e+08],\n",
              "        [1.4183e+08],\n",
              "        [1.5599e+08],\n",
              "        [1.9497e+08],\n",
              "        [1.5601e+08],\n",
              "        [1.4891e+08],\n",
              "        [1.9496e+08],\n",
              "        [1.7196e+08],\n",
              "        [1.1880e+08],\n",
              "        [1.5954e+08],\n",
              "        [2.5164e+08],\n",
              "        [1.7723e+08],\n",
              "        [2.6582e+08],\n",
              "        [1.7724e+08],\n",
              "        [1.5952e+08],\n",
              "        [1.5601e+08],\n",
              "        [1.6838e+08],\n",
              "        [1.5423e+08],\n",
              "        [2.0385e+08],\n",
              "        [1.2410e+08],\n",
              "        [2.6581e+08],\n",
              "        [3.4203e+08],\n",
              "        [3.1012e+08],\n",
              "        [8.1583e+07],\n",
              "        [1.5777e+08],\n",
              "        [1.1881e+08],\n",
              "        [1.3826e+08],\n",
              "        [1.8438e+08],\n",
              "        [2.7467e+08],\n",
              "        [3.9871e+08],\n",
              "        [1.1881e+08],\n",
              "        [1.4891e+08],\n",
              "        [1.2412e+08],\n",
              "        [2.0382e+08],\n",
              "        [1.3296e+08],\n",
              "        [1.6310e+08],\n",
              "        [9.2219e+07],\n",
              "        [3.1012e+08],\n",
              "        [1.9495e+08],\n",
              "        [1.6838e+08],\n",
              "        [2.6583e+08],\n",
              "        [1.1526e+08],\n",
              "        [2.6582e+08],\n",
              "        [2.4810e+08],\n",
              "        [1.5600e+08],\n",
              "        [9.5768e+07],\n",
              "        [1.7724e+08],\n",
              "        [1.5599e+08],\n",
              "        [1.0994e+08],\n",
              "        [1.0640e+08],\n",
              "        [1.6308e+08],\n",
              "        [1.6841e+08],\n",
              "        [2.4633e+08],\n",
              "        [1.5953e+08],\n",
              "        [1.7723e+08],\n",
              "        [2.6582e+08],\n",
              "        [1.5245e+08],\n",
              "        [1.1881e+08],\n",
              "        [2.6582e+08],\n",
              "        [9.2221e+07],\n",
              "        [1.9853e+08],\n",
              "        [1.4183e+08],\n",
              "        [2.6582e+08],\n",
              "        [2.9239e+08],\n",
              "        [1.8609e+08],\n",
              "        [1.1525e+08],\n",
              "        [2.9239e+08],\n",
              "        [3.8099e+08],\n",
              "        [1.8610e+08],\n",
              "        [1.0286e+08],\n",
              "        [2.1269e+08],\n",
              "        [1.5602e+08],\n",
              "        [1.4715e+08],\n",
              "        [1.3828e+08],\n",
              "        [2.6582e+08],\n",
              "        [1.9851e+08],\n",
              "        [2.3037e+08],\n",
              "        [1.8613e+08],\n",
              "        [1.0817e+08],\n",
              "        [1.5596e+08],\n",
              "        [1.7728e+08],\n",
              "        [1.3297e+08],\n",
              "        [2.6582e+08],\n",
              "        [2.9239e+08],\n",
              "        [2.6580e+08],\n",
              "        [2.0030e+08],\n",
              "        [3.0126e+08],\n",
              "        [1.6841e+08],\n",
              "        [1.1526e+08],\n",
              "        [1.5952e+08],\n",
              "        [1.7196e+08],\n",
              "        [1.9496e+08],\n",
              "        [1.3298e+08],\n",
              "        [2.0385e+08],\n",
              "        [2.7113e+08],\n",
              "        [1.6664e+08],\n",
              "        [1.8436e+08],\n",
              "        [1.4182e+08],\n",
              "        [2.4633e+08],\n",
              "        [2.2861e+08],\n",
              "        [1.9500e+08],\n",
              "        [1.2763e+08],\n",
              "        [1.1170e+08],\n",
              "        [2.1266e+08],\n",
              "        [1.6487e+08],\n",
              "        [2.0383e+08],\n",
              "        [3.1898e+08],\n",
              "        [2.3574e+08],\n",
              "        [1.2412e+08],\n",
              "        [2.2153e+08],\n",
              "        [1.5952e+08],\n",
              "        [1.3298e+08],\n",
              "        [3.0125e+08],\n",
              "        [1.7723e+08],\n",
              "        [1.0640e+08],\n",
              "        [1.3298e+08],\n",
              "        [1.4357e+08],\n",
              "        [2.5696e+08],\n",
              "        [1.2762e+08],\n",
              "        [1.8965e+08],\n",
              "        [3.1896e+08],\n",
              "        [1.8610e+08],\n",
              "        [3.6859e+08],\n",
              "        [1.3474e+08],\n",
              "        [1.3474e+08],\n",
              "        [1.7724e+08],\n",
              "        [1.7372e+08],\n",
              "        [1.7723e+08],\n",
              "        [1.5600e+08],\n",
              "        [2.8353e+08],\n",
              "        [1.7196e+08],\n",
              "        [2.5695e+08],\n",
              "        [1.2412e+08],\n",
              "        [1.5069e+08],\n",
              "        [2.1271e+08],\n",
              "        [2.4278e+08],\n",
              "        [2.0382e+08],\n",
              "        [1.8610e+08],\n",
              "        [1.2234e+08],\n",
              "        [1.5067e+08],\n",
              "        [1.9494e+08],\n",
              "        [2.7113e+08],\n",
              "        [2.4810e+08],\n",
              "        [1.9853e+08],\n",
              "        [1.1170e+08],\n",
              "        [1.7018e+08],\n",
              "        [1.5601e+08],\n",
              "        [1.6309e+08],\n",
              "        [1.4715e+08],\n",
              "        [1.7724e+08],\n",
              "        [1.3296e+08],\n",
              "        [1.9496e+08],\n",
              "        [1.0641e+08],\n",
              "        [1.5955e+08],\n",
              "        [3.8099e+08],\n",
              "        [1.1526e+08],\n",
              "        [1.0639e+08],\n",
              "        [3.5443e+08],\n",
              "        [1.9144e+08]], grad_fn=<AddmmBackward0>)"
            ]
          },
          "metadata": {},
          "execution_count": 90
        }
      ]
    },
    {
      "cell_type": "code",
      "source": [
        ""
      ],
      "metadata": {
        "id": "8BsUy7pXOQZa"
      },
      "execution_count": null,
      "outputs": []
    }
  ]
}